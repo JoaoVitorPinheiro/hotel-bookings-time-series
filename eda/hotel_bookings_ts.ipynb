{
    "cells": [
        {
            "cell_type": "code",
            "execution_count": 1,
            "source": [
                "\"\"\"Módulo com funções para plots de série temporal.\"\"\"\r\n",
                "\r\n",
                "import numpy as np \r\n",
                "import pandas as pd\r\n",
                "from statsmodels.tsa.seasonal import seasonal_decompose \r\n",
                "import seaborn as sns\r\n",
                "import plotly.graph_objects as go\r\n",
                "from plotly.subplots import make_subplots"
            ],
            "outputs": [],
            "metadata": {}
        },
        {
            "cell_type": "code",
            "execution_count": null,
            "source": [],
            "outputs": [],
            "metadata": {}
        }
    ],
    "metadata": {
        "orig_nbformat": 4,
        "language_info": {
            "name": "python"
        }
    },
    "nbformat": 4,
    "nbformat_minor": 2
}